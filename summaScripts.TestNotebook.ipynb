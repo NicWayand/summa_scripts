{
 "cells": [
  {
   "cell_type": "markdown",
   "metadata": {},
   "source": [
    "# notebook for running summa\n",
    "based on Create_Run_Files.py"
   ]
  },
  {
   "cell_type": "code",
   "execution_count": 1,
   "metadata": {
    "collapsed": false
   },
   "outputs": [],
   "source": [
    "# netcdf/numpy/xray/stats\n",
    "import numpy as np\n",
    "from datetime import datetime, timedelta\n",
    "import pandas as pd\n",
    "import xarray as xr\n",
    "from scipy.stats.stats import pearsonr\n",
    "\n",
    "# OS interaction\n",
    "import sys, pickle, os\n",
    "\n",
    "# import plotting\n",
    "import seaborn as sns\n",
    "import matplotlib\n",
    "from matplotlib.pyplot import subplots\n",
    "import matplotlib.pyplot as plt\n",
    "from matplotlib import cm\n",
    "from mpl_toolkits.basemap import Basemap\n",
    "\n",
    "import summapy\n",
    "\n",
    "# Customize\n",
    "sns.set_style(\"whitegrid\")\n",
    "sns.set_context('paper')\n",
    "%matplotlib inline"
   ]
  },
  {
   "cell_type": "code",
   "execution_count": 2,
   "metadata": {
    "collapsed": true
   },
   "outputs": [],
   "source": [
    "# --------------------------------------------------------------------------------------------------------------------\n",
    "# Directory Lists\n",
    "# Unix\n",
    "if 'linux' in sys.platform:\n",
    "    dir_pre = '/home/lapok/gdrive/'\n",
    "# Mac\n",
    "elif 'darwin' in sys.platform:\n",
    "    dir_pre = '/Users/karllapo/gdrive/'\n",
    "\n",
    "# Project specific directories\n",
    "dirProj = dir_pre + 'SnowHydrology/proj/ModTsfc/'\n",
    "dirPrint = dirProj + 'Graphics'\n",
    "dirData = dirProj + 'data'\n",
    "\n",
    "# Summa specific directories/names\n",
    "dirSumma = dirProj + 'summa/'\n",
    "projName = 'summaTestCases'"
   ]
  },
  {
   "cell_type": "markdown",
   "metadata": {},
   "source": [
    "# Create_Run_Files.py\n",
    "## Description\n",
    "- Sets up multiple paramter/option runs for the FUSE_SNOW model. Each Run creates a new folder under /settings/SITE/R_X\n",
    "- If only one Run number is specified, then no values are updated (i.e. param_2_vary is ignored)\n",
    "\n",
    "## Instructions\n",
    "1) Modify Input Values  below\n",
    "\n",
    "2) Run ./Create_Run_Files.py\n",
    "\n",
    "## Input\n",
    "- Run_IDs: Number values for new created run files (i.e R_46)\n",
    "- Site_ID_all: Names of all sites to be included, same as site folder names, (Requires Input, Settings, and output folder set up)\n",
    "- new_param_all: Paramter names to vary, (From /settings/summa_zParamInfo.txt)\n",
    "- N_param_itr: Number of values to vary each paramter, (divided evenly between min and max, defined in summa_zParamInfo.txt)"
   ]
  },
  {
   "cell_type": "markdown",
   "metadata": {},
   "source": [
    "# Define Variables/Parameteres Used\n",
    "- cPr: Index of current Multiparameter run set\n",
    "- c_new_param: Name of current parameter\n",
    "- NPruns: Total number of Multiparamter runs\n",
    "- cSite: Index of current Site\n",
    "- c_Site_ID: Name of current Site\n",
    "- NSites: Total number of Sites\n"
   ]
  },
  {
   "cell_type": "code",
   "execution_count": 3,
   "metadata": {
    "collapsed": false
   },
   "outputs": [],
   "source": [
    "# Set up other paths\n",
    "# Format for calling the docker version of summa (from Bart's shell script)\n",
    "# run_exe      = \"docker run -v \" + ${BASEDIR} + \":/\" + ${summaTestCases} + \" bartnijssen/summa:docker\"\n",
    "run_exe      = \"docker run -v \" + dirSumma + \":/\" + projName + \" bartnijssen/summa:docker\"\n",
    "\n",
    "dirSettings = dirSumma + \"settings/\"\n",
    "dirInput = dirSumma + \"input/\"\n",
    "dirOutput = dirSumma + \"output/\""
   ]
  },
  {
   "cell_type": "code",
   "execution_count": 4,
   "metadata": {
    "collapsed": false
   },
   "outputs": [],
   "source": [
    "# Arguments that will eventually be passed to this function\n",
    "nRuns = 1\n",
    "siteName = 'CDP'\n",
    "os.chdir(dirData)\n",
    "dat = xr.open_dataset('CDP.ModTsfc.ModelForcing_wy2006.nc')"
   ]
  },
  {
   "cell_type": "code",
   "execution_count": 5,
   "metadata": {
    "collapsed": false
   },
   "outputs": [
    {
     "name": "stdout",
     "output_type": "stream",
     "text": [
      "Finished creating new Decision file\n"
     ]
    }
   ],
   "source": [
    "myDecisions = {'astability': 'louisinv'}\n",
    "summapy.summaFileManager.decision(myDecisions,\n",
    "                            '/Users/karllapo/gdrive/SnowHydrology/proj/ModTsfc/summa/ModTsfc_summa/settings',\n",
    "                            siteName, 'test', datetime(2005, 10, 1), datetime(2006, 9, 30))\n",
    "\n",
    "summapy."
   ]
  },
  {
   "cell_type": "code",
   "execution_count": 6,
   "metadata": {
    "collapsed": true
   },
   "outputs": [],
   "source": [
    "# Dictionary of default decisions\n",
    "allDecisionsDefault = {}\n",
    "allDecisionsDefault['soilCatTbl'] = 'ROSETTA'  # (03) soil-category dateset\n",
    "allDecisionsDefault['vegeParTbl'] = 'USGS'  # (04) vegetation category dataset\n",
    "allDecisionsDefault['soilStress'] = 'NoahType'  # (05) choice of funct. for soil moisture control on stomatal resistance\n",
    "allDecisionsDefault['stomResist'] = 'BallBerry'  # (06) choice of function for stomatal resistance\n",
    "allDecisionsDefault['num_method'] = 'itertive'  # (07) choice of numerical method\n",
    "allDecisionsDefault['fDerivMeth'] = 'analytic'  # (08) method used to calculate flux derivatives\n",
    "allDecisionsDefault['LAI_method'] = 'specified'  # (09) method used to determine LAI and SAI\n",
    "allDecisionsDefault['f_Richards'] = 'mixdform'  # (10) form of Richard's equation\n",
    "allDecisionsDefault['groundwatr'] = 'noXplict'  # (11) choice of groundwater parameterization\n",
    "allDecisionsDefault['hc_profile'] = 'pow_prof'  # (12) choice of hydraulic conductivity profile\n",
    "allDecisionsDefault['bcUpprTdyn'] = 'nrg_flux'  # (13) type of upper boundary condition for thermodynamics\n",
    "allDecisionsDefault['bcLowrTdyn'] = 'zeroFlux'  # (14) type of lower boundary condition for thermodynamics\n",
    "allDecisionsDefault['bcUpprSoiH'] = 'liq_flux'  # (15) type of upper boundary condition for soil hydrology\n",
    "allDecisionsDefault['bcLowrSoiH'] = 'drainage'  # (16) type of lower boundary condition for soil hydrology\n",
    "allDecisionsDefault['veg_traits'] = 'CM_QJRMS1998'  # (17) choice of param. for veg roughness & displacement height\n",
    "allDecisionsDefault['canopyEmis'] = 'simplExp'  # (18) choice of parameterization for canopy emissivity\n",
    "allDecisionsDefault['snowIncept'] = 'lightSnow'  # (19) choice of parameterization for snow interception\n",
    "allDecisionsDefault['windPrfile'] = 'logBelowCanopy'  # (20) choice of wind profile through the canopy\n",
    "allDecisionsDefault['astability'] = 'standard'  # (21) choice of stability function\n",
    "allDecisionsDefault['canopySrad'] = 'CLM_2stream'  # (22) choice of canopy shortwave radiation method\n",
    "allDecisionsDefault['alb_method'] = 'varDecay'  # (23) choice of albedo representation\n",
    "allDecisionsDefault['compaction'] = 'anderson'  # (24) choice of compaction routine\n",
    "allDecisionsDefault['snowLayers'] = 'jrdn1991'  # (25) choice of method to combine and sub-divide snow layers\n",
    "allDecisionsDefault['thCondSnow'] = 'jrdn1991'  # (26) choice of thermal conductivity representation for snow\n",
    "allDecisionsDefault['thCondSoil'] = 'mixConstit'  # (27) choice of thermal conductivity representation for soil\n",
    "allDecisionsDefault['spatial_gw'] = 'localColumn'  # (28) choice of method for the spatial representation of groundwater\n",
    "allDecisionsDefault['subRouting'] = 'timeDlay'  # (29) choice of method for sub-grid routing\n",
    "allDecisionsDefault['snowDenNew'] = 'pahaut_76'  # (30) choice of method for new snow density"
   ]
  },
  {
   "cell_type": "raw",
   "metadata": {},
   "source": [
    "####\n",
    "# excerpts from the shell script for running summa (from Bart)\n",
    "\n",
    "# ./runTestCases.sh &> runfile &\n",
    "# Output will go into `summaTestCases/output`\n",
    "\n",
    "# string for the summa exe\n",
    "# The commands assume that you are in the directory {localInstallation}//summaTestCases/settings/\n",
    "# and that the control files are in {localInstallation}//summaTestCases/settings/\n",
    "BASEDIR=pwd\n",
    "SUMMA_EXE=\"docker run -v ${BASEDIR}:/summaTestCases bartnijssen/summa:docker\"\n",
    "\n",
    "# *************************************************************************************************\n",
    "# * PART 1: TEST CASES BASED ON SYNTHETIC OR LAB DATA\n",
    "\n",
    "\n",
    "# Synthetic test case 1: Simulations from Celia (WRR 1990)\n",
    "${SUMMA_EXE} -p never -s _testSumma -m /summaTestCases/settings/syntheticTestCases/celia1990/summa_fileManager_celia1990.txt\n",
    "\n",
    "# Synthetic test case 2: Simulations of drainage through snow pack from Clark et al. (WRR 2016) based on Colbeck (1976)\n",
    "${SUMMA_EXE} -p never -s _testSumma -m /summaTestCases/settings/syntheticTestCases/colbeck1976/summa_fileManager_colbeck1976-exp1.txt\n",
    "${SUMMA_EXE} -p never -s _testSumma -m /summaTestCases/settings/syntheticTestCases/colbeck1976/summa_fileManager_colbeck1976-exp2.txt\n",
    "${SUMMA_EXE} -p never -s _testSumma -m /summaTestCases/settings/syntheticTestCases/colbeck1976/summa_fileManager_colbeck1976-exp3.txt"
   ]
  },
  {
   "cell_type": "code",
   "execution_count": 7,
   "metadata": {
    "collapsed": false
   },
   "outputs": [
    {
     "data": {
      "text/plain": [
       "['__builtins__',\n",
       " '__cached__',\n",
       " '__doc__',\n",
       " '__file__',\n",
       " '__loader__',\n",
       " '__name__',\n",
       " '__package__',\n",
       " '__spec__',\n",
       " 'checkFile',\n",
       " 'checkPath',\n",
       " 'os']"
      ]
     },
     "execution_count": 7,
     "metadata": {},
     "output_type": "execute_result"
    }
   ],
   "source": [
    "dir(summapy.summaPaths)"
   ]
  },
  {
   "cell_type": "code",
   "execution_count": null,
   "metadata": {
    "collapsed": true
   },
   "outputs": [],
   "source": []
  }
 ],
 "metadata": {
  "anaconda-cloud": {},
  "kernelspec": {
   "display_name": "Python [Root]",
   "language": "python",
   "name": "Python [Root]"
  },
  "language_info": {
   "codemirror_mode": {
    "name": "ipython",
    "version": 3
   },
   "file_extension": ".py",
   "mimetype": "text/x-python",
   "name": "python",
   "nbconvert_exporter": "python",
   "pygments_lexer": "ipython3",
   "version": "3.5.2"
  }
 },
 "nbformat": 4,
 "nbformat_minor": 0
}
