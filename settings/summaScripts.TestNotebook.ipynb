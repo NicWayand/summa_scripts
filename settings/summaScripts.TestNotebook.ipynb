{
 "cells": [
  {
   "cell_type": "markdown",
   "metadata": {},
   "source": [
    "# notebook for running summa\n",
    "based on Create_Run_Files.py"
   ]
  },
  {
   "cell_type": "code",
   "execution_count": 1,
   "metadata": {
    "collapsed": true
   },
   "outputs": [],
   "source": [
    "# netcdf/numpy/xray/stats\n",
    "import numpy as np\n",
    "from datetime import datetime, timedelta\n",
    "import pandas as pd\n",
    "import xarray as xr\n",
    "from scipy.stats.stats import pearsonr\n",
    "\n",
    "# OS interaction\n",
    "import sys, pickle, os\n",
    "\n",
    "# import plotting\n",
    "import seaborn as sns\n",
    "import matplotlib\n",
    "from matplotlib.pyplot import subplots\n",
    "import matplotlib.pyplot as plt\n",
    "from matplotlib import cm\n",
    "from mpl_toolkits.basemap import Basemap\n",
    "\n",
    "# Offline Turbulence Package\n",
    "import turbpy\n",
    "\n",
    "# Customize\n",
    "sns.set_style(\"whitegrid\")\n",
    "sns.set_context('paper')\n",
    "%matplotlib inline"
   ]
  },
  {
   "cell_type": "code",
   "execution_count": 17,
   "metadata": {
    "collapsed": true
   },
   "outputs": [],
   "source": [
    "# --------------------------------------------------------------------------------------------------------------------\n",
    "# Directory Lists\n",
    "# Unix\n",
    "if 'linux' in sys.platform:\n",
    "    dir_pre = '/home/lapok/gdrive/'\n",
    "# Mac\n",
    "elif 'darwin' in sys.platform:\n",
    "    dir_pre = '/Users/karllapo/gdrive/'\n",
    "\n",
    "# Project specific directories\n",
    "dirProj = dir_pre + 'SnowHydrology/proj/ModTsfc/'\n",
    "dirPrint = dirProj + 'Graphics'\n",
    "dirData = dirProj + 'data'\n",
    "\n",
    "# Summa specific directories/names\n",
    "dirSumma = dirProj + 'summa/'\n",
    "projName = 'summaTestCases'"
   ]
  },
  {
   "cell_type": "raw",
   "metadata": {},
   "source": [
    "####\n",
    "# excerpts from the shell script for running summa (from Bart)\n",
    "\n",
    "# ./runTestCases.sh &> runfile &\n",
    "# Output will go into `summaTestCases/output`\n",
    "\n",
    "# string for the summa exe\n",
    "# The commands assume that you are in the directory {localInstallation}//summaTestCases/settings/\n",
    "# and that the control files are in {localInstallation}//summaTestCases/settings/\n",
    "BASEDIR=pwd\n",
    "SUMMA_EXE=\"docker run -v ${BASEDIR}:/summaTestCases bartnijssen/summa:docker\"\n",
    "\n",
    "# *************************************************************************************************\n",
    "# * PART 1: TEST CASES BASED ON SYNTHETIC OR LAB DATA\n",
    "\n",
    "\n",
    "# Synthetic test case 1: Simulations from Celia (WRR 1990)\n",
    "${SUMMA_EXE} -p never -s _testSumma -m /summaTestCases/settings/syntheticTestCases/celia1990/summa_fileManager_celia1990.txt\n",
    "\n",
    "# Synthetic test case 2: Simulations of drainage through snow pack from Clark et al. (WRR 2016) based on Colbeck (1976)\n",
    "${SUMMA_EXE} -p never -s _testSumma -m /summaTestCases/settings/syntheticTestCases/colbeck1976/summa_fileManager_colbeck1976-exp1.txt\n",
    "${SUMMA_EXE} -p never -s _testSumma -m /summaTestCases/settings/syntheticTestCases/colbeck1976/summa_fileManager_colbeck1976-exp2.txt\n",
    "${SUMMA_EXE} -p never -s _testSumma -m /summaTestCases/settings/syntheticTestCases/colbeck1976/summa_fileManager_colbeck1976-exp3.txt"
   ]
  },
  {
   "cell_type": "markdown",
   "metadata": {},
   "source": [
    "# Create_Run_Files.py\n",
    "## Description\n",
    "- Sets up multiple paramter/option runs for the FUSE_SNOW model. Each Run creates a new folder under /settings/SITE/R_X\n",
    "- If only one Run number is specified, then no values are updated (i.e. param_2_vary is ignored)\n",
    "\n",
    "## Instructions\n",
    "1) Modify Input Values  below\n",
    "\n",
    "2) Run ./Create_Run_Files.py\n",
    "\n",
    "## Input\n",
    "- Run_IDs: Number values for new created run files (i.e R_46)\n",
    "- Site_ID_all: Names of all sites to be included, same as site folder names, (Requires Input, Settings, and output folder set up)\n",
    "- new_param_all: Paramter names to vary, (From /settings/summa_zParamInfo.txt)\n",
    "- N_param_itr: Number of values to vary each paramter, (divided evenly between min and max, defined in summa_zParamInfo.txt)"
   ]
  },
  {
   "cell_type": "markdown",
   "metadata": {},
   "source": [
    "# Define Variables/Parameteres Used\n",
    "- cPr: Index of current Multiparameter run set\n",
    "- c_new_param: Name of current parameter\n",
    "- NPruns: Total number of Multiparamter runs\n",
    "- cSite: Index of current Site\n",
    "- c_Site_ID: Name of current Site\n",
    "- NSites: Total number of Sites\n"
   ]
  },
  {
   "cell_type": "code",
   "execution_count": 5,
   "metadata": {
    "collapsed": false
   },
   "outputs": [],
   "source": [
    "# Set up other paths\n",
    "# Format for calling the docker version of summa (from Bart's shell script)\n",
    "# run_exe      = \"docker run -v \" + ${BASEDIR} + \":/\" + ${summaTestCases} + \" bartnijssen/summa:docker\"\n",
    "run_exe      = \"docker run -v \" + dirSumma + \":/\" + projName + \" bartnijssen/summa:docker\"\n",
    "\n",
    "dirSettings = dirSumma + \"settings/\"\n",
    "dirInput = dirSumma + \"input/\"\n",
    "dirOutput = dirSumma + \"output/\""
   ]
  },
  {
   "cell_type": "code",
   "execution_count": 18,
   "metadata": {
    "collapsed": false
   },
   "outputs": [],
   "source": [
    "# Arguments that will eventually be passed to this function\n",
    "nRuns = 1\n",
    "siteName = 'CDP'\n",
    "os.chdir(dirData)\n",
    "dat = xr.open_dataset('CDP.ModTsfc.ModelForcing_wy2006.nc')"
   ]
  },
  {
   "cell_type": "code",
   "execution_count": 6,
   "metadata": {
    "collapsed": true
   },
   "outputs": [],
   "source": [
    "# 1) Run IDs\n",
    "runIDs = nRuns"
   ]
  },
  {
   "cell_type": "code",
   "execution_count": 7,
   "metadata": {
    "collapsed": true
   },
   "outputs": [],
   "source": [
    "# 2) Define Sites to Use\n",
    "Site_ID_all = siteName"
   ]
  },
  {
   "cell_type": "code",
   "execution_count": 19,
   "metadata": {
    "collapsed": true
   },
   "outputs": [],
   "source": [
    "# 3) Defind start and stop time (make sure only one date is uncommented!)\n",
    "dateStart = dat.time[0]\n",
    "dateEnd = dat.time[-1]"
   ]
  },
  {
   "cell_type": "code",
   "execution_count": 20,
   "metadata": {
    "collapsed": true
   },
   "outputs": [],
   "source": [
    "# 4) Define Parameters to modify from default values and Define values for each new_param_all\n",
    "# SNQ\n",
    "new_param_all = ['tempCritRain',\n",
    "                 'tempRangeTimestep',\n",
    "                 'heightCanopyTop',\n",
    "                 'heightCanopyBottom',\n",
    "                 'winterSAI',\n",
    "                 'summerLAI',\n",
    "                 'maxMassVegetation',\n",
    "                 'f_impede',\n",
    "                 'rootingDepth',\n",
    "                 'zmax'] #,'theta_sat', 'theta_res',  'vGn_alpha',  'vGn_n','k_soil']\n",
    "new_param_val = [273.66, 1, 0.05, 0.01, 0.01, 0.5, 1, 0, 0.1, 0.1]\n",
    "#,          0.401,     0.136,          -0.84,    1.30,   0.0015]\n"
   ]
  },
  {
   "cell_type": "code",
   "execution_count": 10,
   "metadata": {
    "collapsed": true
   },
   "outputs": [],
   "source": [
    "# 5) Define which paramter to allow to vary (between min and max in summa_zLocalParamInfo)\n",
    "# Note: this overwrites the value given in new_param_val.\n",
    "param_2_vary  = 'mw_exp'\n",
    "# Run Info\n",
    "NPruns = len(Run_IDs)\n",
    "NSites = len(Site_ID_all)\n"
   ]
  },
  {
   "cell_type": "code",
   "execution_count": 11,
   "metadata": {
    "collapsed": true
   },
   "outputs": [],
   "source": [
    "# 6) Define Process/Methods to change from current\n",
    "soilCatTbl         =           'ROSETTA'  #! (03) soil-category dateset\n",
    "vegeParTbl         =              'USGS'  #! (04) vegetation category dataset\n",
    "soilStress         =          'NoahType'  #! (05) choice of function for soil moisture control on stomatal resistance\n",
    "stomResist         =         'BallBerry'  #! (06) choice of function for stomatal resistance\n",
    "num_method         =          'itertive'  #! (07) choice of numerical method\n",
    "fDerivMeth         =          'analytic'  #! (08) method used to calculate flux derivatives\n",
    "LAI_method         =         'specified'  #! (09) method used to determine LAI and SAI\n",
    "f_Richards         =          'mixdform'  #! (10) form of Richard's equation\n",
    "groundwatr         =          'noXplict'  #! (11) choice of groundwater parameterization\n",
    "hc_profile         =          'pow_prof'  #! (12) choice of hydraulic conductivity profile\n",
    "bcUpprTdyn         =          'nrg_flux'  #! (13) type of upper boundary condition for thermodynamics\n",
    "bcLowrTdyn         =          'zeroFlux'  #! (14) type of lower boundary condition for thermodynamics\n",
    "bcUpprSoiH         =          'liq_flux'  #! (15) type of upper boundary condition for soil hydrology\n",
    "bcLowrSoiH         =          'drainage'  #! (16) type of lower boundary condition for soil hydrology\n",
    "veg_traits         =      'CM_QJRMS1998'  #! (17) choice of param. for vege roughness length & displacement height\n",
    "canopyEmis         =          'simplExp'  #! (18) choice of parameterization for canopy emissivity\n",
    "snowIncept         =         'lightSnow'  #! (19) choice of parameterization for snow interception\n",
    "windPrfile         =    'logBelowCanopy'  #! (20) choice of wind profile through the canopy\n",
    "astability         =          'mahrtexp'  #! (21) choice of stability function\n",
    "canopySrad         =       'CLM_2stream'  #! (22) choice of canopy shortwave radiation method\n",
    "alb_method         =          'varDecay'  #! (23) choice of albedo representation\n",
    "compaction         =          'anderson'  #! (24) choice of compaction routine\n",
    "snowLayers         =          'jrdn1991'  #! (25) choice of method to combine and sub-divide snow layers\n",
    "thCondSnow         =          'jrdn1991'  #! (26) choice of thermal conductivity representation for snow\n",
    "thCondSoil         =        'mixConstit'  #! (27) choice of thermal conductivity representation for soil\n",
    "spatial_gw         =       'localColumn'  #! (28) choice of method for the spatial representation of groundwater\n",
    "subRouting         =          'timeDlay'  #! (29) choice of method for sub-grid routing\n",
    "snowDenNew         =         'pahaut_76'  #! (30) choice of method for new snow density\n",
    "\n",
    "Decisions_ALL = [soilCatTbl, vegeParTbl, soilStress,\n",
    "                 stomResist, num_method, fDerivMeth,\n",
    "                 LAI_method, f_Richards, groundwatr,\n",
    "                 hc_profile, bcUpprTdyn, bcLowrTdyn,\n",
    "                 bcUpprSoiH, bcLowrSoiH, veg_traits,\n",
    "                 canopyEmis, snowIncept, windPrfile,\n",
    "                 astability, canopySrad, alb_method,\n",
    "                 compaction, snowLayers, thCondSnow,\n",
    "                 thCondSoil, spatial_gw, subRouting, snowDenNew]\n",
    "\n"
   ]
  },
  {
   "cell_type": "code",
   "execution_count": 14,
   "metadata": {
    "collapsed": false
   },
   "outputs": [
    {
     "name": "stdout",
     "output_type": "stream",
     "text": [
      "SNQ_ALL\n"
     ]
    },
    {
     "ename": "KeyboardInterrupt",
     "evalue": "",
     "output_type": "error",
     "traceback": [
      "\u001b[0;31m---------------------------------------------------------------------------\u001b[0m",
      "\u001b[0;31mKeyboardInterrupt\u001b[0m                         Traceback (most recent call last)",
      "\u001b[0;32m<ipython-input-14-0d16829f147b>\u001b[0m in \u001b[0;36m<module>\u001b[0;34m()\u001b[0m\n\u001b[1;32m     24\u001b[0m         \u001b[0;31m#print cPR\u001b[0m\u001b[0;34m\u001b[0m\u001b[0;34m\u001b[0m\u001b[0m\n\u001b[1;32m     25\u001b[0m         \u001b[0;31m# Define current Run ID\u001b[0m\u001b[0;34m\u001b[0m\u001b[0;34m\u001b[0m\u001b[0m\n\u001b[0;32m---> 26\u001b[0;31m         \u001b[0mcRID_char\u001b[0m \u001b[0;34m=\u001b[0m \u001b[0;34m\"R_\"\u001b[0m \u001b[0;34m+\u001b[0m \u001b[0mstr\u001b[0m\u001b[0;34m(\u001b[0m\u001b[0mRun_IDs\u001b[0m\u001b[0;34m[\u001b[0m\u001b[0mcRID\u001b[0m\u001b[0;34m]\u001b[0m\u001b[0;34m)\u001b[0m\u001b[0;34m\u001b[0m\u001b[0m\n\u001b[0m\u001b[1;32m     27\u001b[0m     \u001b[0mprint\u001b[0m\u001b[0;34m(\u001b[0m\u001b[0mcRID_char\u001b[0m\u001b[0;34m)\u001b[0m\u001b[0;34m\u001b[0m\u001b[0m\n\u001b[1;32m     28\u001b[0m \u001b[0;34m\u001b[0m\u001b[0m\n",
      "\u001b[0;31mKeyboardInterrupt\u001b[0m: "
     ]
    }
   ],
   "source": [
    "#####################################################################################\n",
    "# Loop through each Site (Index from zero)\n",
    "#####################################################################################\n",
    "cRID  = 0 # Index of current Run_IDs\n",
    "cSite = 0 # Index of current Site\n",
    "while (cSite < NSites):\n",
    "    # Define Site Info\n",
    "    c_Site_ID = Site_ID_all[cSite]\n",
    "    print(c_Site_ID)\n",
    "\n",
    "    # If more than one NPruns, then get value to vary\n",
    "    if NPruns > 1:\n",
    "        # Get Vaules of param_2_vary from LocalParamInfo\n",
    "        Pvals =  Create_new.GetParamVals(param_2_vary, NPruns, dirSettings, c_Site_ID)\n",
    "        print(Pvals)\n",
    "        # Find Index specifed parameters (new_param_all)\n",
    "        Iparam = new_param_all.index(param_2_vary)\n",
    "    \n",
    "    #####################################################################################\n",
    "    # Loop through each Parameter set run (Index from zero)\n",
    "    #####################################################################################\n",
    "    cPR = 0\n",
    "    while (cPR < NPruns):\n",
    "        #print cPR\n",
    "        # Define current Run ID\n",
    "        cRID_char = \"R_\" + str(Run_IDs[cRID])\n",
    "    print(cRID_char)\n",
    "\n",
    "        # If more than one NPruns, Update\n",
    "    if NPruns > 1:\n",
    "        # Update new paramter value for param_2_vary in new_param_val\n",
    "        new_param_val[Iparam] = Pvals[cPR]\n",
    "\n",
    "    # Define new run paths\n",
    "    c_output_dir = dirOutput + c_Site_ID + \"/\" + cRID_char\n",
    "    c_settings_dir = dirSettings + c_Site_ID + \"/\" + cRID_char\n",
    "    run_output = c_output_dir + \"/Run_output.txt\"\n",
    "        \n",
    "    # Make needed directories\n",
    "    if not os.path.exists(c_output_dir):\n",
    "        os.makedirs(c_output_dir)\n",
    "\n",
    "    if not os.path.exists(c_settings_dir):\n",
    "        # Now create 5 needed files for current Run ID\n",
    "        # Not sure what number 5 is supposed to be....\n",
    "        os.makedirs(c_settings_dir)\n",
    "\n",
    "        # 1) Create the file manager\n",
    "        Create_new.file_Manager(dirSettings, dirInput, dirOutput, c_Site_ID, cRID_char)\n",
    "        \n",
    "        # 2) Create the snow decision file\n",
    "        Create_new.Desicions(Decisions_ALL, dirSettings, c_Site_ID, cRID_char, datestart, dateend)\n",
    "\n",
    "        # 3) Edit Parameter settings for current run\n",
    "        Create_new.ParamTrial(new_param_all, new_param_val, dirSettings, c_Site_ID, cRID_char)\n",
    "\n",
    "        # 4) Create run output file (overwrites previous)\n",
    "        if not os.path.exists(run_output):\n",
    "            ftemp = open(run_output, 'w')\n",
    "            ftemp.close()  # Simple way to make a file\n",
    "\n",
    "        # End of current Paramter set Run\n",
    "        cPR = cPR + 1\n",
    "        cRID = cRID + 1\n",
    "    # End of all Parameter set Runs\n",
    "    cSite = cSite + 1\n",
    "    \n",
    "# End of all Sites"
   ]
  },
  {
   "cell_type": "code",
   "execution_count": 15,
   "metadata": {
    "collapsed": false
   },
   "outputs": [
    {
     "name": "stdout",
     "output_type": "stream",
     "text": [
      "0\n"
     ]
    }
   ],
   "source": [
    "print(cRID)"
   ]
  },
  {
   "cell_type": "code",
   "execution_count": null,
   "metadata": {
    "collapsed": true
   },
   "outputs": [],
   "source": []
  }
 ],
 "metadata": {
  "anaconda-cloud": {},
  "kernelspec": {
   "display_name": "Python [Root]",
   "language": "python",
   "name": "Python [Root]"
  },
  "language_info": {
   "codemirror_mode": {
    "name": "ipython",
    "version": 3
   },
   "file_extension": ".py",
   "mimetype": "text/x-python",
   "name": "python",
   "nbconvert_exporter": "python",
   "pygments_lexer": "ipython3",
   "version": "3.5.2"
  }
 },
 "nbformat": 4,
 "nbformat_minor": 0
}
